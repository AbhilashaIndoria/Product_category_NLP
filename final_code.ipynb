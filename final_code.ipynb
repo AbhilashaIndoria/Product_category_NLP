{
 "cells": [
  {
   "cell_type": "code",
   "execution_count": 1,
   "metadata": {},
   "outputs": [],
   "source": [
    "import pandas as pd\n",
    "import matplotlib.pyplot as plt\n",
    "import numpy as np\n",
    "import seaborn as sns"
   ]
  },
  {
   "cell_type": "code",
   "execution_count": 2,
   "metadata": {},
   "outputs": [
    {
     "data": {
      "text/html": [
       "<div>\n",
       "<style scoped>\n",
       "    .dataframe tbody tr th:only-of-type {\n",
       "        vertical-align: middle;\n",
       "    }\n",
       "\n",
       "    .dataframe tbody tr th {\n",
       "        vertical-align: top;\n",
       "    }\n",
       "\n",
       "    .dataframe thead th {\n",
       "        text-align: right;\n",
       "    }\n",
       "</style>\n",
       "<table border=\"1\" class=\"dataframe\">\n",
       "  <thead>\n",
       "    <tr style=\"text-align: right;\">\n",
       "      <th></th>\n",
       "      <th>Inv_Id</th>\n",
       "      <th>Vendor_Code</th>\n",
       "      <th>GL_Code</th>\n",
       "      <th>Inv_Amt</th>\n",
       "      <th>Item_Description</th>\n",
       "      <th>Product_Category</th>\n",
       "    </tr>\n",
       "  </thead>\n",
       "  <tbody>\n",
       "    <tr>\n",
       "      <th>0</th>\n",
       "      <td>15001</td>\n",
       "      <td>VENDOR-1676</td>\n",
       "      <td>GL-6100410</td>\n",
       "      <td>83.24</td>\n",
       "      <td>Artworking/Typesetting Production Jun 2009 Cha...</td>\n",
       "      <td>CLASS-1963</td>\n",
       "    </tr>\n",
       "    <tr>\n",
       "      <th>1</th>\n",
       "      <td>15002</td>\n",
       "      <td>VENDOR-1883</td>\n",
       "      <td>GL-2182000</td>\n",
       "      <td>51.18</td>\n",
       "      <td>Auto Leasing Corporate Services Corning Inc /N...</td>\n",
       "      <td>CLASS-1250</td>\n",
       "    </tr>\n",
       "    <tr>\n",
       "      <th>2</th>\n",
       "      <td>15004</td>\n",
       "      <td>VENDOR-1999</td>\n",
       "      <td>GL-6050100</td>\n",
       "      <td>79.02</td>\n",
       "      <td>Store Management Lease/Rent Deltona Corp Real ...</td>\n",
       "      <td>CLASS-1274</td>\n",
       "    </tr>\n",
       "    <tr>\n",
       "      <th>3</th>\n",
       "      <td>15005</td>\n",
       "      <td>VENDOR-1771</td>\n",
       "      <td>GL-6101400</td>\n",
       "      <td>48.50</td>\n",
       "      <td>Store Construction General Requirements Coloni...</td>\n",
       "      <td>CLASS-1522</td>\n",
       "    </tr>\n",
       "    <tr>\n",
       "      <th>4</th>\n",
       "      <td>15006</td>\n",
       "      <td>VENDOR-1331</td>\n",
       "      <td>GL-2182000</td>\n",
       "      <td>63.35</td>\n",
       "      <td>Jul 2015 Aydin Corp Contingent Labor/Temp Labo...</td>\n",
       "      <td>CLASS-1376</td>\n",
       "    </tr>\n",
       "  </tbody>\n",
       "</table>\n",
       "</div>"
      ],
      "text/plain": [
       "   Inv_Id  Vendor_Code     GL_Code  Inv_Amt  \\\n",
       "0   15001  VENDOR-1676  GL-6100410    83.24   \n",
       "1   15002  VENDOR-1883  GL-2182000    51.18   \n",
       "2   15004  VENDOR-1999  GL-6050100    79.02   \n",
       "3   15005  VENDOR-1771  GL-6101400    48.50   \n",
       "4   15006  VENDOR-1331  GL-2182000    63.35   \n",
       "\n",
       "                                    Item_Description Product_Category  \n",
       "0  Artworking/Typesetting Production Jun 2009 Cha...       CLASS-1963  \n",
       "1  Auto Leasing Corporate Services Corning Inc /N...       CLASS-1250  \n",
       "2  Store Management Lease/Rent Deltona Corp Real ...       CLASS-1274  \n",
       "3  Store Construction General Requirements Coloni...       CLASS-1522  \n",
       "4  Jul 2015 Aydin Corp Contingent Labor/Temp Labo...       CLASS-1376  "
      ]
     },
     "execution_count": 2,
     "metadata": {},
     "output_type": "execute_result"
    }
   ],
   "source": [
    "df = pd.read_csv('Train.csv')\n",
    "df.head()"
   ]
  },
  {
   "cell_type": "code",
   "execution_count": 3,
   "metadata": {},
   "outputs": [],
   "source": [
    "df['Product_Category'] = df.Product_Category.astype('category')"
   ]
  },
  {
   "cell_type": "code",
   "execution_count": 4,
   "metadata": {},
   "outputs": [
    {
     "name": "stdout",
     "output_type": "stream",
     "text": [
      "<class 'pandas.core.frame.DataFrame'>\n",
      "(5566, 2)\n",
      "<class 'pandas.core.series.Series'>\n"
     ]
    }
   ],
   "source": [
    "cols = ['Inv_Amt', 'Item_Description']\n",
    "X = df[cols]\n",
    "print(type(X))\n",
    "print(X.shape)\n",
    "y = df['Product_Category']\n",
    "print(type(y))"
   ]
  },
  {
   "cell_type": "code",
   "execution_count": 5,
   "metadata": {},
   "outputs": [],
   "source": [
    "numeric_cols = ['Inv_Amt']\n",
    "label = ['Product_Category']"
   ]
  },
  {
   "cell_type": "code",
   "execution_count": 6,
   "metadata": {},
   "outputs": [],
   "source": [
    "def combine_text_cols(df, to_drop=numeric_cols+label):\n",
    "    to_drop = set(to_drop) & set(df.columns.tolist())\n",
    "    text_data = df.drop(to_drop, axis=1)\n",
    "    return text_data.apply(lambda x:\" \".join(x), axis=1)"
   ]
  },
  {
   "cell_type": "code",
   "execution_count": 7,
   "metadata": {},
   "outputs": [],
   "source": [
    "from sklearn.pipeline import Pipeline\n",
    "from sklearn.linear_model import LogisticRegression\n",
    "from sklearn.multiclass import OneVsRestClassifier\n",
    "from sklearn.feature_extraction.text import HashingVectorizer\n",
    "from sklearn.preprocessing import Imputer\n",
    "from sklearn.feature_selection import chi2, SelectKBest\n",
    "from sklearn.preprocessing import FunctionTransformer, MaxAbsScaler\n",
    "from sklearn.preprocessing import PolynomialFeatures\n",
    "from sklearn.model_selection import train_test_split\n",
    "from sklearn.pipeline import FeatureUnion"
   ]
  },
  {
   "cell_type": "code",
   "execution_count": 8,
   "metadata": {},
   "outputs": [],
   "source": [
    "X_train, x_test, y_train, y_test = train_test_split(X, pd.get_dummies(y), test_size=0.10,  random_state=2)"
   ]
  },
  {
   "cell_type": "code",
   "execution_count": 9,
   "metadata": {},
   "outputs": [],
   "source": [
    "get_text_data = FunctionTransformer(combine_text_cols, validate=False)\n",
    "get_numeric_data = FunctionTransformer(lambda x: x[numeric_cols], validate=False)\n",
    "tokens_alphanumeric = '[A-Za-z0-9]+(?=\\\\s+)'"
   ]
  },
  {
   "cell_type": "code",
   "execution_count": 10,
   "metadata": {},
   "outputs": [],
   "source": [
    "chik=300"
   ]
  },
  {
   "cell_type": "code",
   "execution_count": 11,
   "metadata": {},
   "outputs": [
    {
     "name": "stderr",
     "output_type": "stream",
     "text": [
      "C:\\Users\\HP\\Anaconda2\\envs\\data_analysis\\lib\\site-packages\\sklearn\\utils\\deprecation.py:58: DeprecationWarning: Class Imputer is deprecated; Imputer was deprecated in version 0.20 and will be removed in 0.22. Import impute.SimpleImputer from sklearn instead.\n",
      "  warnings.warn(msg, category=DeprecationWarning)\n"
     ]
    }
   ],
   "source": [
    "pl = Pipeline([('union', FeatureUnion(transformer_list=[('numeric_features', Pipeline([('selector',\n",
    "                                                                                        get_numeric_data),\n",
    "                                                                                       ('imputer', Imputer())])),\n",
    "                                                        ('text_feature', Pipeline([('selector', get_text_data),\n",
    "                                                                                   ('vec', HashingVectorizer(norm=None, non_negative=True, token_pattern=tokens_alphanumeric,\n",
    "                                                                                                             ngram_range=(1,2))),\n",
    "                                                                                   ('dim_red', SelectKBest(chi2, chik))])\n",
    "                                                        )])),\n",
    "               ('int', PolynomialFeatures(degree=2, interaction_only=True, include_bias=False)),\n",
    "               ('scale', MaxAbsScaler()),\n",
    "               ('clf', OneVsRestClassifier(LogisticRegression())\n",
    "               )])"
   ]
  },
  {
   "cell_type": "code",
   "execution_count": 12,
   "metadata": {},
   "outputs": [
    {
     "name": "stderr",
     "output_type": "stream",
     "text": [
      "C:\\Users\\HP\\Anaconda2\\envs\\data_analysis\\lib\\site-packages\\sklearn\\feature_extraction\\hashing.py:102: DeprecationWarning: the option non_negative=True has been deprecated in 0.19 and will be removed in version 0.21.\n",
      "  \" in version 0.21.\", DeprecationWarning)\n",
      "C:\\Users\\HP\\Anaconda2\\envs\\data_analysis\\lib\\site-packages\\sklearn\\feature_extraction\\hashing.py:102: DeprecationWarning: the option non_negative=True has been deprecated in 0.19 and will be removed in version 0.21.\n",
      "  \" in version 0.21.\", DeprecationWarning)\n",
      "C:\\Users\\HP\\Anaconda2\\envs\\data_analysis\\lib\\site-packages\\sklearn\\linear_model\\logistic.py:433: FutureWarning: Default solver will be changed to 'lbfgs' in 0.22. Specify a solver to silence this warning.\n",
      "  FutureWarning)\n"
     ]
    },
    {
     "data": {
      "text/plain": [
       "Pipeline(memory=None,\n",
       "     steps=[('union', FeatureUnion(n_jobs=None,\n",
       "       transformer_list=[('numeric_features', Pipeline(memory=None,\n",
       "     steps=[('selector', FunctionTransformer(accept_sparse=False, check_inverse=True,\n",
       "          func=<function <lambda> at 0x0000020FB0C071E0>, inv_kw_args=None,\n",
       "          inverse_func=None...te=None, solver='warn',\n",
       "          tol=0.0001, verbose=0, warm_start=False),\n",
       "          n_jobs=None))])"
      ]
     },
     "execution_count": 12,
     "metadata": {},
     "output_type": "execute_result"
    }
   ],
   "source": [
    "pl.fit(X_train, y_train)"
   ]
  },
  {
   "cell_type": "code",
   "execution_count": null,
   "metadata": {},
   "outputs": [
    {
     "name": "stderr",
     "output_type": "stream",
     "text": [
      "C:\\Users\\HP\\Anaconda2\\envs\\data_analysis\\lib\\site-packages\\sklearn\\feature_extraction\\hashing.py:102: DeprecationWarning: the option non_negative=True has been deprecated in 0.19 and will be removed in version 0.21.\n",
      "  \" in version 0.21.\", DeprecationWarning)\n"
     ]
    }
   ],
   "source": [
    "y_pred = pl.predict(x_test)\n",
    "y_proba = pl.predict_proba(x_test)"
   ]
  },
  {
   "cell_type": "code",
   "execution_count": null,
   "metadata": {},
   "outputs": [],
   "source": [
    "from sklearn.metrics import accuracy_score, fbeta_score, mean_squared_error\n",
    "acc_y = accuracy_score(y_test, y_pred)\n",
    "f1_y = fbeta_score(y_test, y_pred, beta=1, average='micro')\n",
    "mse = mean_squared_error(y_test, y_pred)\n",
    "print('accuracy', acc_y)\n",
    "print('f1 score', f1_y)\n",
    "print('MSE', mse)"
   ]
  },
  {
   "cell_type": "code",
   "execution_count": 33,
   "metadata": {},
   "outputs": [
    {
     "data": {
      "text/html": [
       "<div>\n",
       "<style scoped>\n",
       "    .dataframe tbody tr th:only-of-type {\n",
       "        vertical-align: middle;\n",
       "    }\n",
       "\n",
       "    .dataframe tbody tr th {\n",
       "        vertical-align: top;\n",
       "    }\n",
       "\n",
       "    .dataframe thead th {\n",
       "        text-align: right;\n",
       "    }\n",
       "</style>\n",
       "<table border=\"1\" class=\"dataframe\">\n",
       "  <thead>\n",
       "    <tr style=\"text-align: right;\">\n",
       "      <th></th>\n",
       "      <th>Inv_Id</th>\n",
       "      <th>Vendor_Code</th>\n",
       "      <th>GL_Code</th>\n",
       "      <th>Inv_Amt</th>\n",
       "      <th>Item_Description</th>\n",
       "    </tr>\n",
       "  </thead>\n",
       "  <tbody>\n",
       "    <tr>\n",
       "      <th>0</th>\n",
       "      <td>15003</td>\n",
       "      <td>VENDOR-2513</td>\n",
       "      <td>GL-6050310</td>\n",
       "      <td>56.13</td>\n",
       "      <td>Travel and Entertainment Miscellaneous Company...</td>\n",
       "    </tr>\n",
       "    <tr>\n",
       "      <th>1</th>\n",
       "      <td>15008</td>\n",
       "      <td>VENDOR-1044</td>\n",
       "      <td>GL-6101400</td>\n",
       "      <td>96.56</td>\n",
       "      <td>Final Site Clean Up Store Construction Advance...</td>\n",
       "    </tr>\n",
       "    <tr>\n",
       "      <th>2</th>\n",
       "      <td>15013</td>\n",
       "      <td>VENDOR-1254</td>\n",
       "      <td>GL-6101400</td>\n",
       "      <td>55.93</td>\n",
       "      <td>Arabian American Development Co Final Site Cle...</td>\n",
       "    </tr>\n",
       "    <tr>\n",
       "      <th>3</th>\n",
       "      <td>15019</td>\n",
       "      <td>VENDOR-1331</td>\n",
       "      <td>GL-2182000</td>\n",
       "      <td>32.62</td>\n",
       "      <td>Corporate Services Contingent Labor/Temp Labor...</td>\n",
       "    </tr>\n",
       "    <tr>\n",
       "      <th>4</th>\n",
       "      <td>15020</td>\n",
       "      <td>VENDOR-2513</td>\n",
       "      <td>GL-6050310</td>\n",
       "      <td>25.81</td>\n",
       "      <td>Fortune National Corp Miscellaneous Company Ca...</td>\n",
       "    </tr>\n",
       "  </tbody>\n",
       "</table>\n",
       "</div>"
      ],
      "text/plain": [
       "   Inv_Id  Vendor_Code     GL_Code  Inv_Amt  \\\n",
       "0   15003  VENDOR-2513  GL-6050310    56.13   \n",
       "1   15008  VENDOR-1044  GL-6101400    96.56   \n",
       "2   15013  VENDOR-1254  GL-6101400    55.93   \n",
       "3   15019  VENDOR-1331  GL-2182000    32.62   \n",
       "4   15020  VENDOR-2513  GL-6050310    25.81   \n",
       "\n",
       "                                    Item_Description  \n",
       "0  Travel and Entertainment Miscellaneous Company...  \n",
       "1  Final Site Clean Up Store Construction Advance...  \n",
       "2  Arabian American Development Co Final Site Cle...  \n",
       "3  Corporate Services Contingent Labor/Temp Labor...  \n",
       "4  Fortune National Corp Miscellaneous Company Ca...  "
      ]
     },
     "execution_count": 33,
     "metadata": {},
     "output_type": "execute_result"
    }
   ],
   "source": [
    "df_t = pd.read_csv('Test.csv')\n",
    "df_t.head()"
   ]
  },
  {
   "cell_type": "code",
   "execution_count": 34,
   "metadata": {},
   "outputs": [
    {
     "data": {
      "text/html": [
       "<div>\n",
       "<style scoped>\n",
       "    .dataframe tbody tr th:only-of-type {\n",
       "        vertical-align: middle;\n",
       "    }\n",
       "\n",
       "    .dataframe tbody tr th {\n",
       "        vertical-align: top;\n",
       "    }\n",
       "\n",
       "    .dataframe thead th {\n",
       "        text-align: right;\n",
       "    }\n",
       "</style>\n",
       "<table border=\"1\" class=\"dataframe\">\n",
       "  <thead>\n",
       "    <tr style=\"text-align: right;\">\n",
       "      <th></th>\n",
       "      <th>Inv_Id</th>\n",
       "      <th>Product_Category</th>\n",
       "    </tr>\n",
       "  </thead>\n",
       "  <tbody>\n",
       "    <tr>\n",
       "      <th>0</th>\n",
       "      <td>1</td>\n",
       "      <td>CLASS-784</td>\n",
       "    </tr>\n",
       "    <tr>\n",
       "      <th>1</th>\n",
       "      <td>2</td>\n",
       "      <td>CLASS-784</td>\n",
       "    </tr>\n",
       "    <tr>\n",
       "      <th>2</th>\n",
       "      <td>3</td>\n",
       "      <td>CLASS-784</td>\n",
       "    </tr>\n",
       "    <tr>\n",
       "      <th>3</th>\n",
       "      <td>4</td>\n",
       "      <td>CLASS-784</td>\n",
       "    </tr>\n",
       "    <tr>\n",
       "      <th>4</th>\n",
       "      <td>5</td>\n",
       "      <td>CLASS-784</td>\n",
       "    </tr>\n",
       "  </tbody>\n",
       "</table>\n",
       "</div>"
      ],
      "text/plain": [
       "   Inv_Id Product_Category\n",
       "0       1        CLASS-784\n",
       "1       2        CLASS-784\n",
       "2       3        CLASS-784\n",
       "3       4        CLASS-784\n",
       "4       5        CLASS-784"
      ]
     },
     "execution_count": 34,
     "metadata": {},
     "output_type": "execute_result"
    }
   ],
   "source": [
    "sub =  pd.read_csv('sample_submission.csv')\n",
    "sub.head()"
   ]
  },
  {
   "cell_type": "code",
   "execution_count": 35,
   "metadata": {},
   "outputs": [],
   "source": [
    "ID_col = df_t['Inv_Id'].to_list()"
   ]
  },
  {
   "cell_type": "code",
   "execution_count": 36,
   "metadata": {},
   "outputs": [],
   "source": [
    "test = df_t[cols]"
   ]
  },
  {
   "cell_type": "code",
   "execution_count": 37,
   "metadata": {},
   "outputs": [
    {
     "name": "stderr",
     "output_type": "stream",
     "text": [
      "C:\\Users\\HP\\Anaconda2\\envs\\data_analysis\\lib\\site-packages\\sklearn\\feature_extraction\\hashing.py:102: DeprecationWarning: the option non_negative=True has been deprecated in 0.19 and will be removed in version 0.21.\n",
      "  \" in version 0.21.\", DeprecationWarning)\n"
     ]
    }
   ],
   "source": [
    "t_y = pl.predict_proba(test)"
   ]
  },
  {
   "cell_type": "code",
   "execution_count": 38,
   "metadata": {},
   "outputs": [
    {
     "data": {
      "text/plain": [
       "['CLASS-1248',\n",
       " 'CLASS-1249',\n",
       " 'CLASS-1250',\n",
       " 'CLASS-1274',\n",
       " 'CLASS-1294',\n",
       " 'CLASS-1309',\n",
       " 'CLASS-1322',\n",
       " 'CLASS-1376',\n",
       " 'CLASS-1429',\n",
       " 'CLASS-1477',\n",
       " 'CLASS-1522',\n",
       " 'CLASS-1567',\n",
       " 'CLASS-1652',\n",
       " 'CLASS-1688',\n",
       " 'CLASS-1721',\n",
       " 'CLASS-1758',\n",
       " 'CLASS-1770',\n",
       " 'CLASS-1805',\n",
       " 'CLASS-1828',\n",
       " 'CLASS-1838',\n",
       " 'CLASS-1850',\n",
       " 'CLASS-1867',\n",
       " 'CLASS-1870',\n",
       " 'CLASS-1919',\n",
       " 'CLASS-1957',\n",
       " 'CLASS-1963',\n",
       " 'CLASS-1964',\n",
       " 'CLASS-1983',\n",
       " 'CLASS-2003',\n",
       " 'CLASS-2015',\n",
       " 'CLASS-2038',\n",
       " 'CLASS-2112',\n",
       " 'CLASS-2141',\n",
       " 'CLASS-2146',\n",
       " 'CLASS-2152',\n",
       " 'CLASS-2241']"
      ]
     },
     "execution_count": 38,
     "metadata": {},
     "output_type": "execute_result"
    }
   ],
   "source": [
    "y_cols = pd.get_dummies(y).columns.to_list()\n",
    "y_cols"
   ]
  },
  {
   "cell_type": "code",
   "execution_count": 39,
   "metadata": {},
   "outputs": [
    {
     "data": {
      "text/plain": [
       "array([15, 10, 10, ...,  2, 25, 26], dtype=int64)"
      ]
     },
     "execution_count": 39,
     "metadata": {},
     "output_type": "execute_result"
    }
   ],
   "source": [
    "col_index = np.argmax(t_y, axis=1)\n",
    "col_index"
   ]
  },
  {
   "cell_type": "code",
   "execution_count": 41,
   "metadata": {},
   "outputs": [],
   "source": [
    "target = [y_cols[ind] for ind in col_index]\n"
   ]
  },
  {
   "cell_type": "code",
   "execution_count": 42,
   "metadata": {},
   "outputs": [
    {
     "name": "stdout",
     "output_type": "stream",
     "text": [
      "2446\n",
      "2446\n"
     ]
    }
   ],
   "source": [
    "print(len(target))\n",
    "print(len(ID_col))"
   ]
  },
  {
   "cell_type": "code",
   "execution_count": 43,
   "metadata": {},
   "outputs": [],
   "source": [
    "dict_t = {'Inv_Id':ID_col,\n",
    "         'Product_Category':target}\n",
    "df_t = pd.DataFrame(dict_t)"
   ]
  },
  {
   "cell_type": "code",
   "execution_count": 44,
   "metadata": {},
   "outputs": [],
   "source": [
    "df_t.to_csv('predictions.csv', index=False)"
   ]
  },
  {
   "cell_type": "code",
   "execution_count": null,
   "metadata": {},
   "outputs": [],
   "source": []
  }
 ],
 "metadata": {
  "kernelspec": {
   "display_name": "data_analysis",
   "language": "python",
   "name": "data_analysis"
  },
  "language_info": {
   "codemirror_mode": {
    "name": "ipython",
    "version": 3
   },
   "file_extension": ".py",
   "mimetype": "text/x-python",
   "name": "python",
   "nbconvert_exporter": "python",
   "pygments_lexer": "ipython3",
   "version": "3.6.8"
  }
 },
 "nbformat": 4,
 "nbformat_minor": 2
}
